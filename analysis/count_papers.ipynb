{
 "cells": [
  {
   "cell_type": "code",
   "execution_count": 8,
   "metadata": {},
   "outputs": [
    {
     "name": "stdout",
     "output_type": "stream",
     "text": [
      "Number of papers related to 'intelligence': 27588\n",
      "Number of papers related to 'machine learning': 258609\n",
      "Number of papers related to 'artificial intelligence': 45135\n"
     ]
    }
   ],
   "source": [
    "from opensearchpy import OpenSearch, RequestsHttpConnection\n",
    "\n",
    "# Configure the OpenSearch client\n",
    "client = OpenSearch(\n",
    "    hosts=[{\"host\": \"opensearch-ds.ifi.uni-heidelberg.de\", \"port\": 443}],\n",
    "    http_auth=(\"asiddhpura\", \"Pkw?#Rivale9Meran.Abweg\"),\n",
    "    use_ssl=True,\n",
    "    verify_certs=True,\n",
    "    ssl_show_warn=False,\n",
    "    connection_class=RequestsHttpConnection,\n",
    ")\n",
    "\n",
    "index_name = \"frameintell_arxiv_metadata\"\n",
    "\n",
    "\n",
    "def count_papers(query):\n",
    "    try:\n",
    "        response = client.count(\n",
    "            index=index_name,\n",
    "            body={\"query\": {\"multi_match\": {\"query\": query, \"fields\": [\"title\", \"abstract\"]}}},\n",
    "        )\n",
    "        return response[\"count\"]\n",
    "    except Exception as e:\n",
    "        print(f\"Error counting papers: {e}\")\n",
    "        return 0\n",
    "\n",
    "\n",
    "# Count the papers\n",
    "intelligence_paper_count = count_papers(\"intelligence\")\n",
    "print(f\"Number of papers related to 'intelligence': {intelligence_paper_count}\")\n",
    "machine_learning_paper_count = count_papers(\"machine learning\")\n",
    "print(f\"Number of papers related to 'machine learning': {machine_learning_paper_count}\")\n",
    "artificial_intelligence_paper_count = count_papers(\"artificial intelligence\")\n",
    "print(\n",
    "    f\"Number of papers related to 'artificial intelligence': {artificial_intelligence_paper_count}\"\n",
    ")"
   ]
  }
 ],
 "metadata": {
  "kernelspec": {
   "display_name": ".venv",
   "language": "python",
   "name": "python3"
  },
  "language_info": {
   "codemirror_mode": {
    "name": "ipython",
    "version": 3
   },
   "file_extension": ".py",
   "mimetype": "text/x-python",
   "name": "python",
   "nbconvert_exporter": "python",
   "pygments_lexer": "ipython3",
   "version": "3.12.3"
  }
 },
 "nbformat": 4,
 "nbformat_minor": 2
}
