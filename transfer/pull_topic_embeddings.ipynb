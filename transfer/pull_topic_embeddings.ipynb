{
 "cells": [
  {
   "cell_type": "code",
   "execution_count": 1,
   "metadata": {},
   "outputs": [
    {
     "name": "stdout",
     "output_type": "stream",
     "text": [
      "Total documents:  216143\n"
     ]
    },
    {
     "name": "stderr",
     "output_type": "stream",
     "text": [
      "Downloading:   0%|          | 0/216143 [00:00<?, ?it/s]"
     ]
    },
    {
     "name": "stdout",
     "output_type": "stream",
     "text": [
      "Hits:  10000\n"
     ]
    },
    {
     "name": "stderr",
     "output_type": "stream",
     "text": [
      "Downloading: 100%|██████████| 216143/216143 [32:24<00:00, 111.13it/s]"
     ]
    },
    {
     "name": "stdout",
     "output_type": "stream",
     "text": [
      "Data downloaded and saved to embeddings_data.jsonl\n"
     ]
    },
    {
     "name": "stderr",
     "output_type": "stream",
     "text": [
      "\n"
     ]
    }
   ],
   "source": [
    "from opensearchpy import OpenSearch, RequestsHttpConnection\n",
    "import json\n",
    "from tqdm import tqdm\n",
    "\n",
    "# Configure the OpenSearch client\n",
    "client = OpenSearch(\n",
    "    hosts=[{\"host\": \"opensearch-ds.ifi.uni-heidelberg.de\", \"port\": 443}],\n",
    "    http_auth=(\"asiddhpura\", \"Pkw?#Rivale9Meran.Abweg\"),\n",
    "    use_ssl=True,\n",
    "    verify_certs=True,\n",
    "    ssl_show_warn=False,\n",
    "    connection_class=RequestsHttpConnection,\n",
    "    timeout=120,\n",
    ")\n",
    "\n",
    "index_name = \"frameintell_arxiv_embeddings\"\n",
    "\n",
    "\n",
    "# Function to get total number of documents\n",
    "def get_total_docs(query):\n",
    "    try:\n",
    "        response = client.count(index=index_name, body={\"query\": {\"match\": {\"abstract\": query}}})\n",
    "        return response[\"count\"]\n",
    "    except Exception as e:\n",
    "        print(f\"Error getting document count: {e}\")\n",
    "        return 0\n",
    "\n",
    "\n",
    "# Function to download and write data using Scroll API\n",
    "def download_and_write_data(filename, query, batch_size=10000):\n",
    "    total_docs = get_total_docs(query)\n",
    "    print(\"Total documents: \", total_docs)\n",
    "\n",
    "    with open(filename, \"w\") as f:\n",
    "        with tqdm(total=total_docs, desc=\"Downloading\") as pbar:\n",
    "            # Initialize the scroll\n",
    "            res = client.search(\n",
    "                index=index_name,\n",
    "                body={\n",
    "                    \"query\": {\"match\": {\"abstract\": query}},\n",
    "                    \"_source\": [\"id\", \"embedding\"],\n",
    "                },\n",
    "                scroll=\"10m\",\n",
    "                size=batch_size,\n",
    "            )\n",
    "\n",
    "            # Get the scroll ID\n",
    "            scroll_id = res[\"_scroll_id\"]\n",
    "            hits = res[\"hits\"][\"hits\"]\n",
    "\n",
    "            while len(hits):\n",
    "                # Process current batch\n",
    "                for hit in hits:\n",
    "                    doc = {\"id\": hit[\"_source\"][\"id\"], \"embedding\": hit[\"_source\"][\"embedding\"]}\n",
    "                    f.write(json.dumps(doc) + \"\\n\")\n",
    "\n",
    "                pbar.update(len(hits))\n",
    "\n",
    "                try:\n",
    "                    # Fetch the next batch using the scroll API\n",
    "                    res = client.scroll(scroll_id=scroll_id, scroll=\"10m\")\n",
    "                    hits = res[\"hits\"][\"hits\"]\n",
    "                    scroll_id = res[\"_scroll_id\"]\n",
    "                except Exception as e:\n",
    "                    print(f\"Error scrolling: {e}\")\n",
    "                    break\n",
    "\n",
    "    print(f\"Data downloaded and saved to {filename}\")\n",
    "\n",
    "\n",
    "# Download and write the data\n",
    "output_filename = \"embeddings_data.jsonl\"\n",
    "download_and_write_data(output_filename, \"machine learning\")"
   ]
  }
 ],
 "metadata": {
  "kernelspec": {
   "display_name": ".venv",
   "language": "python",
   "name": "python3"
  },
  "language_info": {
   "codemirror_mode": {
    "name": "ipython",
    "version": 3
   },
   "file_extension": ".py",
   "mimetype": "text/x-python",
   "name": "python",
   "nbconvert_exporter": "python",
   "pygments_lexer": "ipython3",
   "version": "3.12.3"
  }
 },
 "nbformat": 4,
 "nbformat_minor": 2
}
