{
 "cells": [
  {
   "cell_type": "code",
   "execution_count": 1,
   "metadata": {},
   "outputs": [],
   "source": [
    "import pandas as pd\n",
    "from opensearchpy import OpenSearch\n",
    "from opensearchpy.connection import RequestsHttpConnection\n",
    "\n",
    "# Connect to OpenSearch\n",
    "client = OpenSearch(\n",
    "    hosts=[{\"host\": \"opensearch-ds.ifi.uni-heidelberg.de\", \"port\": 443}],\n",
    "    http_auth=(\"asiddhpura\", \"Pkw?#Rivale9Meran.Abweg\"),\n",
    "    use_ssl=True,\n",
    "    verify_certs=True,\n",
    "    ssl_show_warn=False,\n",
    "    connection_class=RequestsHttpConnection,\n",
    "    timeout=120,\n",
    ")"
   ]
  },
  {
   "cell_type": "code",
   "execution_count": 2,
   "metadata": {},
   "outputs": [],
   "source": [
    "df = pd.read_csv(\"nodes.csv\")"
   ]
  },
  {
   "cell_type": "code",
   "execution_count": 3,
   "metadata": {},
   "outputs": [],
   "source": [
    "import colorsys\n",
    "\n",
    "# Generate a color for each cluster\n",
    "def generate_color(cluster_number):\n",
    "    hue = hash(cluster_number) % 360 / 360.0\n",
    "    saturation = 0.9\n",
    "    value = 0.9\n",
    "    r, g, b = colorsys.hsv_to_rgb(hue, saturation, value)\n",
    "    return \"#{:02x}{:02x}{:02x}\".format(int(r * 255), int(g * 255), int(b * 255))\n",
    "\n",
    "# Add a color column to the dataframe\n",
    "df[\"color\"] = df[\"cluster\"].apply(generate_color)"
   ]
  },
  {
   "cell_type": "code",
   "execution_count": 4,
   "metadata": {},
   "outputs": [],
   "source": [
    "# Fetch all titles and update dates from OpenSearch\n",
    "def fetch_titles_and_dates_from_opensearch(opensearch_client, ids):\n",
    "    index_name = \"frameintell_arxiv_metadata\"\n",
    "\n",
    "    query = {\n",
    "        \"size\": 10000,\n",
    "        \"_source\": [\"title\", \"update_date\"],\n",
    "        \"query\": {\"ids\": {\"values\": ids}},\n",
    "    }\n",
    "\n",
    "    id_to_info = {}\n",
    "\n",
    "    def process_hits(hits):\n",
    "        for hit in hits:\n",
    "            id_to_info[hit[\"_id\"]] = {\n",
    "                \"title\": hit[\"_source\"].get(\"title\"),\n",
    "                \"update_date\": hit[\"_source\"].get(\"update_date\"),\n",
    "            }\n",
    "\n",
    "    response = opensearch_client.search(index=index_name, body=query, scroll=\"2m\")\n",
    "\n",
    "    scroll_id = response[\"_scroll_id\"]\n",
    "    process_hits(response[\"hits\"][\"hits\"])\n",
    "\n",
    "    while len(response[\"hits\"][\"hits\"]):\n",
    "        response = opensearch_client.scroll(scroll_id=scroll_id, scroll=\"2m\")\n",
    "        process_hits(response[\"hits\"][\"hits\"])\n",
    "\n",
    "    return id_to_info\n",
    "\n",
    "\n",
    "# Assuming 'df' is your dataframe and 'id' is the name of the column with IDs\n",
    "ids = df[\"id\"].unique().tolist()\n",
    "\n",
    "# Fetch all titles and update dates\n",
    "id_to_info = fetch_titles_and_dates_from_opensearch(client, ids)\n",
    "\n",
    "# Add titles and update dates to the dataframe\n",
    "df[\"title\"] = df[\"id\"].map(lambda x: id_to_info.get(x, {}).get(\"title\"))\n",
    "df[\"update_date\"] = df[\"id\"].map(lambda x: id_to_info.get(x, {}).get(\"update_date\"))\n",
    "# Convert update_date to datetime\n",
    "df[\"update_date\"] = pd.to_datetime(df[\"update_date\"])\n",
    "# Change format from yyyy-MM-dd to dd/MM/yyyy\n",
    "df[\"update_date\"] = df[\"update_date\"].dt.strftime(\"%d/%m/%Y\")\n",
    "# Remove \"\\n\" from title\n",
    "df[\"title\"] = df[\"title\"].str.replace(\"\\n\", \"\")\n",
    "# Remove all whitesapce from title\n",
    "df[\"title\"] = df[\"title\"].str.strip()"
   ]
  },
  {
   "cell_type": "code",
   "execution_count": 5,
   "metadata": {},
   "outputs": [],
   "source": [
    "# Save the dataframe to a new CSV file\n",
    "df.to_csv(\"new_nodes.csv\", index=False)"
   ]
  }
 ],
 "metadata": {
  "kernelspec": {
   "display_name": ".venv",
   "language": "python",
   "name": "python3"
  },
  "language_info": {
   "codemirror_mode": {
    "name": "ipython",
    "version": 3
   },
   "file_extension": ".py",
   "mimetype": "text/x-python",
   "name": "python",
   "nbconvert_exporter": "python",
   "pygments_lexer": "ipython3",
   "version": "3.12.3"
  }
 },
 "nbformat": 4,
 "nbformat_minor": 2
}
