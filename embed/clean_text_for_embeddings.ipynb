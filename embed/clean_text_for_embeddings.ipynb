{
 "cells": [
  {
   "cell_type": "code",
   "execution_count": 9,
   "metadata": {},
   "outputs": [],
   "source": [
    "import json\n",
    "\n",
    "\n",
    "# Read all abstracts from the data/arxiv-metadata-oai-snapshot.json file\n",
    "text_for_embedding = []\n",
    "with open(\"../data/arxiv-metadata-oai-snapshot.json\", \"r\") as f:\n",
    "    for line in f:\n",
    "        paper = {}\n",
    "        record = json.loads(line)\n",
    "        paper[\"id\"] = record[\"id\"]\n",
    "        if \"title\" in record:\n",
    "            paper[\"title\"] = record[\"title\"]\n",
    "        if \"abstract\" in record:\n",
    "            paper[\"abstract\"] = record[\"abstract\"]\n",
    "        if \"journal-ref\" in record:\n",
    "            paper[\"journal-ref\"] = record[\"journal-ref\"]\n",
    "        if \"categories\" in record:\n",
    "            paper[\"categories\"] = record[\"categories\"]\n",
    "        text_for_embedding.append(paper)"
   ]
  },
  {
   "cell_type": "code",
   "execution_count": 10,
   "metadata": {},
   "outputs": [],
   "source": [
    "# Save abstracts to a json file with one abstract per line for processing\n",
    "with open(\"../data/text_for_embedding.json\", \"w\") as f:\n",
    "    for paper in text_for_embedding:\n",
    "        f.write(json.dumps(paper) + \"\\n\")"
   ]
  },
  {
   "cell_type": "code",
   "execution_count": 14,
   "metadata": {},
   "outputs": [
    {
     "name": "stderr",
     "output_type": "stream",
     "text": [
      "[nltk_data] Downloading package stopwords to /Users/arjan/nltk_data...\n",
      "[nltk_data]   Package stopwords is already up-to-date!\n"
     ]
    },
    {
     "name": "stdout",
     "output_type": "stream",
     "text": [
      "Cleaning complete. The cleaned text is saved to cleaned_texts_for_embedding.json\n"
     ]
    }
   ],
   "source": [
    "import json\n",
    "import re\n",
    "from nltk.corpus import stopwords\n",
    "import nltk\n",
    "\n",
    "# Download the stopwords data\n",
    "nltk.download(\"stopwords\")\n",
    "# Get the set of English stopwords\n",
    "stop_words = set(stopwords.words(\"english\"))\n",
    "\n",
    "\n",
    "# Function to clean the text\n",
    "def clean_text(text):\n",
    "    if not isinstance(text, str):\n",
    "        return \"\"  # Return empty string if input is not a string\n",
    "    text = text.replace(\"\\n\", \" \")  # Remove newline characters\n",
    "    text = text.lower()  # Convert to lowercase\n",
    "    text = re.sub(r\"[^a-zA-Z\\s]\", \"\", text)  # Remove special characters and digits\n",
    "    words = text.split()  # Tokenize the text\n",
    "    cleaned_words = [word for word in words if word not in stop_words]  # Remove stopwords\n",
    "    return \" \".join(cleaned_words)  # Return the cleaned text as a string\n",
    "\n",
    "\n",
    "# Read the input file\n",
    "with open(\"../data/text_for_embedding.json\", \"r\") as file:\n",
    "    papers = [json.loads(line) for line in file]\n",
    "\n",
    "# Clean the text for each paper\n",
    "cleaned_papers = []\n",
    "for paper in papers:\n",
    "    cleaned_title = clean_text(paper.get(\"title\", \"\")) if \"title\" in paper else \"\"\n",
    "    cleaned_abstract = clean_text(paper.get(\"abstract\", \"\")) if \"abstract\" in paper else \"\"\n",
    "    cleaned_journal_ref = clean_text(paper.get(\"journal-ref\", \"\")) if \"journal-ref\" in paper else \"\"\n",
    "    cleaned_categories = clean_text(paper.get(\"categories\", \"\")) if \"categories\" in paper else \"\"\n",
    "\n",
    "    cleaned_paper = {\n",
    "        \"id\": paper.get(\"id\", \"\"),\n",
    "        \"title\": cleaned_title,\n",
    "        \"abstract\": cleaned_abstract,\n",
    "        \"journal-ref\": cleaned_journal_ref,\n",
    "        \"categories\": cleaned_categories,\n",
    "    }\n",
    "    cleaned_papers.append(cleaned_paper)\n",
    "\n",
    "# Save the cleaned text to a json file\n",
    "with open(\"../data/cleaned_texts_for_embedding.json\", \"w\") as file:\n",
    "    for paper in cleaned_papers:\n",
    "        json.dump(paper, file)\n",
    "        file.write(\"\\n\")\n",
    "\n",
    "print(\"Cleaning complete. The cleaned text is saved to cleaned_texts_for_embedding.json\")"
   ]
  }
 ],
 "metadata": {
  "kernelspec": {
   "display_name": ".venv",
   "language": "python",
   "name": "python3"
  },
  "language_info": {
   "codemirror_mode": {
    "name": "ipython",
    "version": 3
   },
   "file_extension": ".py",
   "mimetype": "text/x-python",
   "name": "python",
   "nbconvert_exporter": "python",
   "pygments_lexer": "ipython3",
   "version": "3.12.3"
  }
 },
 "nbformat": 4,
 "nbformat_minor": 2
}
