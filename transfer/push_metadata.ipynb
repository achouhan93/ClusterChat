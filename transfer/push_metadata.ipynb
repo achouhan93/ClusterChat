{
 "cells": [
  {
   "cell_type": "code",
   "execution_count": 1,
   "metadata": {},
   "outputs": [],
   "source": [
    "import json\n",
    "import fileinput\n",
    "from tqdm import tqdm\n",
    "from opensearchpy import OpenSearch, RequestsHttpConnection\n",
    "\n",
    "# Connect to the OpenSearch instance\n",
    "os = OpenSearch(\n",
    "    hosts=[{\"host\": \"opensearch-ds.ifi.uni-heidelberg.de\", \"port\": 443}],\n",
    "    http_auth=(\"asiddhpura\", \"Pkw?#Rivale9Meran.Abweg\"),\n",
    "    use_ssl=True,\n",
    "    verify_certs=True,\n",
    "    connection_class=RequestsHttpConnection,\n",
    "    timeout=120,\n",
    ")"
   ]
  },
  {
   "cell_type": "code",
   "execution_count": 2,
   "metadata": {},
   "outputs": [],
   "source": [
    "# Index mapping\n",
    "mappings = {\n",
    "    \"mappings\": {\n",
    "        \"properties\": {\n",
    "            \"id\": {\"type\": \"keyword\"},\n",
    "            \"submitter\": {\"type\": \"text\"},\n",
    "            \"authors\": {\"type\": \"text\"},\n",
    "            \"title\": {\"type\": \"text\"},\n",
    "            \"comments\": {\"type\": \"text\"},\n",
    "            \"journal-ref\": {\"type\": \"text\"},\n",
    "            \"doi\": {\"type\": \"keyword\"},\n",
    "            \"report-no\": {\"type\": \"keyword\", \"null_value\": \"null\"},\n",
    "            \"categories\": {\"type\": \"text\"},\n",
    "            \"license\": {\"type\": \"keyword\", \"null_value\": \"null\"},\n",
    "            \"abstract\": {\"type\": \"text\", \"analyzer\": \"english\"},\n",
    "            \"versions\": {\n",
    "                \"type\": \"nested\",\n",
    "                \"properties\": {\n",
    "                    \"version\": {\"type\": \"keyword\"},\n",
    "                    \"created\": {\"type\": \"date\", \"format\": \"EEE, d MMM yyyy HH:mm:ss 'GMT'\"},\n",
    "                },\n",
    "            },\n",
    "            \"update_date\": {\"type\": \"date\", \"format\": \"yyyy-MM-dd\"},\n",
    "        }\n",
    "    }\n",
    "}\n",
    "\n",
    "\n",
    "# Create the index\n",
    "index = \"frameintell_arxiv_metadata\"\n",
    "if not os.indices.exists(index=index):\n",
    "    os.indices.create(index=index, body=mappings)\n",
    "    print(f\"Index {index} created.\")"
   ]
  },
  {
   "cell_type": "code",
   "execution_count": null,
   "metadata": {},
   "outputs": [],
   "source": [
    "# def index_data_one_by_one(file_path, index_name):\n",
    "#     with fileinput.input(files=(file_path)) as f:\n",
    "#         for line in tqdm(f, desc=\"Indexing data\"):\n",
    "#             document = json.loads(line.strip())\n",
    "#             try:\n",
    "#                 response = os.index(index=index_name, id=document[\"id\"], body=document)\n",
    "#             except Exception as e:\n",
    "#                 print(response)\n",
    "#                 print(f\"Error: {e}\")\n",
    "#                 print(f\"Document: {document}\")\n",
    "#                 break\n",
    "\n",
    "\n",
    "# index = \"frameintell_arxiv_metadata\"\n",
    "# file_path = \"../data/arxiv-metadata-oai-snapshot.json\"\n",
    "# index_data_one_by_one(file_path, index)"
   ]
  },
  {
   "cell_type": "code",
   "execution_count": 5,
   "metadata": {},
   "outputs": [
    {
     "name": "stderr",
     "output_type": "stream",
     "text": [
      "Bulk indexing data: 991007it [07:12, 3844.03it/s]"
     ]
    }
   ],
   "source": [
    "# Bulk index the data\n",
    "def bulk_index_data(file_path, index_name):\n",
    "    with fileinput.input(files=(file_path)) as f:\n",
    "        bulk_data = []\n",
    "        for line in tqdm(f, desc=\"Bulk indexing data\"):\n",
    "            document = json.loads(line.strip())\n",
    "            bulk_data.append({\"create\": {\"_index\": index_name, \"_id\": document[\"id\"]}})\n",
    "            bulk_data.append(document)\n",
    "            if len(bulk_data) >= 100000:\n",
    "                os.bulk(bulk_data)\n",
    "                bulk_data = []\n",
    "        if bulk_data:\n",
    "            os.bulk(bulk_data)\n",
    "\n",
    "\n",
    "index = \"frameintell_arxiv_metadata\"\n",
    "file_path = \"../data/arxiv-metadata-oai-snapshot.json\"\n",
    "bulk_index_data(file_path, index)"
   ]
  },
  {
   "cell_type": "code",
   "execution_count": null,
   "metadata": {},
   "outputs": [],
   "source": [
    "# Check the number of documents in the index\n",
    "response = os.count(index=index)\n",
    "print(response)"
   ]
  },
  {
   "cell_type": "code",
   "execution_count": null,
   "metadata": {},
   "outputs": [],
   "source": [
    "# Search for documents\n",
    "response = os.search(index=index, body={\"query\": {\"match\": {\"title\": \"intelligence\"}}, \"size\": 1})\n",
    "print(response)"
   ]
  }
 ],
 "metadata": {
  "kernelspec": {
   "display_name": ".venv",
   "language": "python",
   "name": "python3"
  },
  "language_info": {
   "codemirror_mode": {
    "name": "ipython",
    "version": 3
   },
   "file_extension": ".py",
   "mimetype": "text/x-python",
   "name": "python",
   "nbconvert_exporter": "python",
   "pygments_lexer": "ipython3",
   "version": "3.12.3"
  }
 },
 "nbformat": 4,
 "nbformat_minor": 2
}
