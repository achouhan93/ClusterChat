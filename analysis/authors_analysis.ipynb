{
 "cells": [
  {
   "cell_type": "code",
   "execution_count": 5,
   "metadata": {},
   "outputs": [
    {
     "name": "stdout",
     "output_type": "stream",
     "text": [
      "[['Balázs', 'C.', ''], ['Berger', 'E. L.', ''], ['Nadolsky', 'P. M.', ''], ['Yuan', 'C. -P.', '']]\n",
      "[['Balázs', 'C.', ''], ['Berger', 'E. L.', ''], ['Nadolsky', 'P. M.', ''], ['Yuan', 'C. -P.', '']]\n",
      "[['Balázs', 'C.', ''], ['Berger', 'E. L.', ''], ['Nadolsky', 'P. M.', ''], ['Yuan', 'C. -P.', '']]\n",
      "[['Mishchenko', 'A. S.', '', '1 and 2'], ['Nagaosa', 'N.', '', '1 and 3']]\n",
      "[['Ramos', 'A. Asensio', '', 'IAC'], ['Bueno', 'J. Trujillo', '', 'IAC', 'CSIC']]\n",
      "[['Xu', 'Dawei', '', 'NAOC'], ['Komossa', 'Stefanie', '', 'MPE'], ['Zhou', 'Hongyan', '', 'Univ. of Florida', 'MPE', 'USTC'], ['Wang', 'Tinggui', '', 'USTC'], ['Wei', 'Jianyan', '', 'NAOC']]\n",
      "[['Singh', 'Nishant K.', '', 'NORDITA'], ['Raichur', 'Harsha', '', 'NORDITA'], ['Brandenburg', 'Axel', '', 'NORDITA', 'JILA', 'Stockholm University', 'LASP']]\n",
      "7\n"
     ]
    }
   ],
   "source": [
    "import json\n",
    "\n",
    "file_path = \"../data/arxiv-metadata-oai-snapshot.json\"\n",
    "\n",
    "max_count = 0\n",
    "count = 0\n",
    "with open(file_path) as f:\n",
    "    for line in f:\n",
    "        data = json.loads(line)\n",
    "        for di in data[\"authors_parsed\"]:\n",
    "            count = 0\n",
    "            for dj in di:\n",
    "                count += 1\n",
    "                if count > max_count:\n",
    "                    max_count = count\n",
    "                    print(data[\"authors_parsed\"])\n",
    "        # print(data[\"authors_parsed\"])\n",
    "\n",
    "print(max_count)"
   ]
  },
  {
   "cell_type": "code",
   "execution_count": 1,
   "metadata": {},
   "outputs": [],
   "source": [
    "import json\n",
    "\n",
    "# Read and process the metadata for authors\n",
    "all_authors = []\n",
    "file_path = \"../data/arxiv-metadata-oai-snapshot.json\"\n",
    "with open(file_path) as f:\n",
    "    for line in f:\n",
    "        data = json.loads(line)\n",
    "        author_dict = {}\n",
    "        author_dict[\"id\"] = data[\"id\"]\n",
    "        authors = []\n",
    "        for di in data[\"authors_parsed\"]:\n",
    "            first_name = di[1]\n",
    "            last_name = di[0]\n",
    "            authors.append({\"first_name\": first_name, \"last_name\": last_name})\n",
    "        author_dict[\"authors\"] = authors\n",
    "        all_authors.append(author_dict)"
   ]
  },
  {
   "cell_type": "code",
   "execution_count": 2,
   "metadata": {},
   "outputs": [],
   "source": [
    "# Save the all_authors to a json file with each new line as a new json object\n",
    "with open(\"../data/authors.json\", \"w\") as f:\n",
    "    for author in all_authors:\n",
    "        f.write(json.dumps(author) + \"\\n\")"
   ]
  }
 ],
 "metadata": {
  "kernelspec": {
   "display_name": ".venv",
   "language": "python",
   "name": "python3"
  },
  "language_info": {
   "codemirror_mode": {
    "name": "ipython",
    "version": 3
   },
   "file_extension": ".py",
   "mimetype": "text/x-python",
   "name": "python",
   "nbconvert_exporter": "python",
   "pygments_lexer": "ipython3",
   "version": "3.12.3"
  }
 },
 "nbformat": 4,
 "nbformat_minor": 2
}
